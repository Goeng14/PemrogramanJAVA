{
  "nbformat": 4,
  "nbformat_minor": 0,
  "metadata": {
    "colab": {
      "name": "soal_uas_java_nim_11200465.ipynb",
      "provenance": [],
      "collapsed_sections": []
    },
    "kernelspec": {
      "name": "python3",
      "display_name": "Python 3"
    },
    "language_info": {
      "name": "python"
    }
  },
  "cells": [
    {
      "cell_type": "markdown",
      "source": [
        "NAMA = \n",
        "\n",
        "NIM =\n"
      ],
      "metadata": {
        "id": "LD_t6iM-70c8"
      }
    },
    {
      "cell_type": "markdown",
      "source": [
        "**Soal 1**\n",
        "\n",
        "Pelajarilah artikel tentang **Bangun Ruang Balok** pada tautan berikut [https://www.advernesia.com/blog/matematika/rumus-bangun-ruang/#2](https://www.advernesia.com/blog/matematika/rumus-bangun-ruang/#2)"
      ],
      "metadata": {
        "id": "LGnI1irC74z5"
      }
    },
    {
      "cell_type": "markdown",
      "source": [
        "**Soal 2**\n",
        "\n",
        "Rancanglah sebuah class untuk mengitung **Luas permukaan (L)** bangun pada kasus **Soal 1**\n",
        "   * Tentukan Rancangan Struktur class *(point 20)*\n",
        "   * Tentukan kompunen atribut class *(point 20)*\n",
        "   * kompunen kompunen method class *(point 20)*\n",
        "\n",
        "*Jawab*"
      ],
      "metadata": {
        "id": "dOj5Mt578IgQ"
      }
    },
    {
      "cell_type": "code",
      "source": [
        "//code\n"
      ],
      "metadata": {
        "id": "jGeAwlF59JF5"
      },
      "execution_count": null,
      "outputs": []
    },
    {
      "cell_type": "markdown",
      "source": [
        "**Soal 3** \n",
        "\n",
        "Terapkan konsep enskapsulasi dari class yang anda kembangkan anda pada  **Soal 2** *(point 20)*\n",
        "\n",
        "*Jawab*"
      ],
      "metadata": {
        "id": "k6qXzf1P9WL7"
      }
    },
    {
      "cell_type": "code",
      "source": [
        "//code"
      ],
      "metadata": {
        "id": "iBHWdYla-F0F"
      },
      "execution_count": null,
      "outputs": []
    },
    {
      "cell_type": "markdown",
      "source": [
        "**Soal 3** \n",
        "\n",
        "Implementasikan untuk testing contoh penggunaan suatu penghitungan dari suatu kasus **Soal 2** dari objek pada class yang anda rancang *(point 20)*\n",
        "\n",
        "*Jawab*\n"
      ],
      "metadata": {
        "id": "HVmgwVSH-Iza"
      }
    },
    {
      "cell_type": "code",
      "source": [
        "//code"
      ],
      "metadata": {
        "id": "8Rz7gmrj-hP_"
      },
      "execution_count": null,
      "outputs": []
    }
  ]
}